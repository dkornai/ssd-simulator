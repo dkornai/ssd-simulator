{
 "cells": [
  {
   "cell_type": "code",
   "execution_count": 1,
   "metadata": {},
   "outputs": [
    {
     "ename": "ImportError",
     "evalue": "Python version mismatch: module was compiled for Python 3.9, but the interpreter version is incompatible: 3.11.5 (main, Sep 11 2023, 13:54:46) [GCC 11.2.0].",
     "output_type": "error",
     "traceback": [
      "\u001b[0;31m---------------------------------------------------------------------------\u001b[0m",
      "\u001b[0;31mImportError\u001b[0m                               Traceback (most recent call last)",
      "\u001b[1;32m/home/daniel/Projects/2023_Jones_Lab_mtDNA/ssd-simulator/test.ipynb Cell 1\u001b[0m line \u001b[0;36m5\n\u001b[1;32m      <a href='vscode-notebook-cell:/home/daniel/Projects/2023_Jones_Lab_mtDNA/ssd-simulator/test.ipynb#W0sZmlsZQ%3D%3D?line=2'>3</a>\u001b[0m \u001b[39mfrom\u001b[39;00m \u001b[39mnetwork\u001b[39;00m \u001b[39mimport\u001b[39;00m ConstantBirthNode, DynamicBirthNode, Network\n\u001b[1;32m      <a href='vscode-notebook-cell:/home/daniel/Projects/2023_Jones_Lab_mtDNA/ssd-simulator/test.ipynb#W0sZmlsZQ%3D%3D?line=3'>4</a>\u001b[0m \u001b[39mfrom\u001b[39;00m \u001b[39mreactions\u001b[39;00m \u001b[39mimport\u001b[39;00m NetworkReactions, CmeParameters\n\u001b[0;32m----> <a href='vscode-notebook-cell:/home/daniel/Projects/2023_Jones_Lab_mtDNA/ssd-simulator/test.ipynb#W0sZmlsZQ%3D%3D?line=4'>5</a>\u001b[0m \u001b[39mfrom\u001b[39;00m \u001b[39msimulate\u001b[39;00m \u001b[39mimport\u001b[39;00m simulate_gillespie\n",
      "File \u001b[0;32m~/Projects/2023_Jones_Lab_mtDNA/ssd-simulator/simulate.py:14\u001b[0m\n\u001b[1;32m     11\u001b[0m \u001b[39mimport\u001b[39;00m \u001b[39mscipy\u001b[39;00m\u001b[39m.\u001b[39;00m\u001b[39mintegrate\u001b[39;00m \u001b[39mas\u001b[39;00m \u001b[39mintegrate\u001b[39;00m\n\u001b[1;32m     13\u001b[0m \u001b[39mfrom\u001b[39;00m \u001b[39mreactions\u001b[39;00m \u001b[39mimport\u001b[39;00m CmeParameters\n\u001b[0;32m---> 14\u001b[0m \u001b[39mimport\u001b[39;00m \u001b[39mlibsimbackend\u001b[39;00m\n\u001b[1;32m     16\u001b[0m \u001b[39m# Set up custom types for hinting\u001b[39;00m\n\u001b[1;32m     17\u001b[0m npVec_i32 \u001b[39m=\u001b[39m Type[np\u001b[39m.\u001b[39mndarray[np\u001b[39m.\u001b[39mint32, np\u001b[39m.\u001b[39mndim(\u001b[39m1\u001b[39m)]]\n",
      "\u001b[0;31mImportError\u001b[0m: Python version mismatch: module was compiled for Python 3.9, but the interpreter version is incompatible: 3.11.5 (main, Sep 11 2023, 13:54:46) [GCC 11.2.0]."
     ]
    }
   ],
   "source": [
    "import networkx as nx\n",
    "import numpy as np\n",
    "from network import ConstantBirthNode, DynamicBirthNode, Network\n",
    "from reactions import NetworkReactions, CmeParameters\n",
    "from simulate import simulate_gillespie"
   ]
  },
  {
   "cell_type": "code",
   "execution_count": 3,
   "metadata": {},
   "outputs": [
    {
     "name": "stdout",
     "output_type": "stream",
     "text": [
      "ConstantBirthNode(id:0)\n",
      "DynamicBirthNode(id:1)\n",
      "DynamicBirthNode(id:2)\n",
      "ConstantBirthNode(id:0) DynamicBirthNode(id:1) 0.05\n",
      "DynamicBirthNode(id:1) ConstantBirthNode(id:0) 0.05\n",
      "DynamicBirthNode(id:1) DynamicBirthNode(id:2) 0.03\n",
      "DynamicBirthNode(id:2) DynamicBirthNode(id:1) 0.03\n",
      "\n",
      "Reactions:\n",
      "DynamicBirthReaction(variable:n1_t0, state_i:2, rate:dynamic)\n",
      "DynamicBirthReaction(variable:n1_t1, state_i:3, rate:dynamic)\n",
      "DynamicBirthReaction(variable:n2_t0, state_i:4, rate:dynamic)\n",
      "DynamicBirthReaction(variable:n2_t1, state_i:5, rate:dynamic)\n",
      "DeathReaction(variable:n0_t0, state_i:0, rate:0.2)\n",
      "DeathReaction(variable:n0_t1, state_i:1, rate:0.2)\n",
      "DeathReaction(variable:n1_t0, state_i:2, rate:0.2)\n",
      "DeathReaction(variable:n1_t1, state_i:3, rate:0.2)\n",
      "DeathReaction(variable:n2_t0, state_i:4, rate:0.1)\n",
      "DeathReaction(variable:n2_t1, state_i:5, rate:0.1)\n",
      "TransportReaction(variable:n0_t0, state_i:0, sourceid: 0, destid: 1, rate:0.05)\n",
      "TransportReaction(variable:n0_t1, state_i:1, sourceid: 0, destid: 1, rate:0.05)\n",
      "TransportReaction(variable:n1_t0, state_i:2, sourceid: 1, destid: 0, rate:0.05)\n",
      "TransportReaction(variable:n1_t1, state_i:3, sourceid: 1, destid: 0, rate:0.05)\n",
      "TransportReaction(variable:n1_t0, state_i:2, sourceid: 1, destid: 2, rate:0.03)\n",
      "TransportReaction(variable:n1_t1, state_i:3, sourceid: 1, destid: 2, rate:0.03)\n",
      "TransportReaction(variable:n2_t0, state_i:4, sourceid: 2, destid: 1, rate:0.03)\n",
      "TransportReaction(variable:n2_t1, state_i:5, sourceid: 2, destid: 1, rate:0.03)\n",
      "Reaction Matrix:\n",
      "[[ 0  0  1  0  0  0]\n",
      " [ 0  0  0  1  0  0]\n",
      " [ 0  0  0  0  1  0]\n",
      " [ 0  0  0  0  0  1]\n",
      " [-1  0  0  0  0  0]\n",
      " [ 0 -1  0  0  0  0]\n",
      " [ 0  0 -1  0  0  0]\n",
      " [ 0  0  0 -1  0  0]\n",
      " [ 0  0  0  0 -1  0]\n",
      " [ 0  0  0  0  0 -1]\n",
      " [-1  0  1  0  0  0]\n",
      " [ 0 -1  0  1  0  0]\n",
      " [ 1  0 -1  0  0  0]\n",
      " [ 0  1  0 -1  0  0]\n",
      " [ 0  0 -1  0  1  0]\n",
      " [ 0  0  0 -1  0  1]\n",
      " [ 0  0  1  0 -1  0]\n",
      " [ 0  0  0  1  0 -1]]\n",
      "Reaction Rates:\n",
      "[-1.   -1.   -1.   -1.    0.2   0.2   0.2   0.2   0.1   0.1   0.05  0.05\n",
      "  0.05  0.05  0.03  0.03  0.03  0.03]\n",
      "Statevec i:\n",
      "[2 3 4 5 0 1 2 3 4 5 0 1 2 3 2 3 4 5]\n",
      "Dynamic Birth Parameters:\n",
      "[0 2]\n",
      "[0.2 0.2 0.1 0.1 0.  0.  0.  0.  0.  0.  0.  0.  0.  0.  0.  0.  0.  0. ]\n",
      "[60. 60. 60. 60.  0.  0.  0.  0.  0.  0.  0.  0.  0.  0.  0.  0.  0.  0.]\n",
      "[60. 60. 60. 60.  0.  0.  0.  0.  0.  0.  0.  0.  0.  0.  0.  0.  0.  0.]\n",
      "[0.5 0.5 0.5 0.5 0.  0.  0.  0.  0.  0.  0.  0.  0.  0.  0.  0.  0.  0. ]\n",
      "\n"
     ]
    }
   ],
   "source": [
    "node0 = ConstantBirthNode(60, 0.2, 0)\n",
    "node1 = DynamicBirthNode(60, 0.2, 0.2, 60, 0.1, 0.5)\n",
    "node2 = DynamicBirthNode(60, 0.1, 0.1, 60, 0.1, 0.5)\n",
    "\n",
    "network = Network()\n",
    "network.add_node(node0)\n",
    "network.add_node(node1)\n",
    "network.add_node(node2)\n",
    "network.allocate_ids()\n",
    "\n",
    "network.add_transport(node0, node1, rate = 0.05)\n",
    "network.add_transport(node1, node0, rate = 0.05)\n",
    "network.add_transport(node1, node2, rate = 0.03)\n",
    "network.add_transport(node2, node1, rate = 0.03)\n",
    "\n",
    "\n",
    "for node in network.nodes: print(node)\n",
    "for s, d, data in network.edges(data=True):\n",
    "    print(s, d, data['rate'])\n",
    "\n",
    "reactions = NetworkReactions(network)\n",
    "\n",
    "print(\"\\nReactions:\")\n",
    "for reaction in reactions.reactions:\n",
    "    print(reaction)\n",
    "\n",
    "cme_param = CmeParameters(reactions)\n",
    "print(cme_param)"
   ]
  },
  {
   "cell_type": "code",
   "execution_count": null,
   "metadata": {},
   "outputs": [],
   "source": [
    "\n",
    "simulate = "
   ]
  }
 ],
 "metadata": {
  "kernelspec": {
   "display_name": "py311",
   "language": "python",
   "name": "python3"
  },
  "language_info": {
   "codemirror_mode": {
    "name": "ipython",
    "version": 3
   },
   "file_extension": ".py",
   "mimetype": "text/x-python",
   "name": "python",
   "nbconvert_exporter": "python",
   "pygments_lexer": "ipython3",
   "version": "3.11.5"
  }
 },
 "nbformat": 4,
 "nbformat_minor": 2
}
